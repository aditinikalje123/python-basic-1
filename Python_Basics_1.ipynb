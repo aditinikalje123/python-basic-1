{
  "cells": [
    {
      "cell_type": "markdown",
      "metadata": {
        "id": "EY7hq1JhOHPf"
      },
      "source": []
    },
    {
      "cell_type": "markdown",
      "metadata": {
        "id": "T0lBB8zROJlM"
      },
      "source": [
        "1) What is Python, and why is it popular?\n",
        "\n",
        "Ans:- Python is a high level,interpreted programming language known for simplicity,readability and versatility. It supports multiple programming paradigms, including procedural object oriented,and functional programming.\n",
        "\n",
        "It is popular because it is easy to learn ,versatile , have vast and active community , cross platform and have extensive libraries.\n",
        "\n",
        "2) What is an interpreter in Python?\n",
        "\n",
        "Ans:-It translates or convert the code in machine language in line wise line form. Python is the best example of interpreted language.\n",
        "\n",
        "3) What are pre-defined keywords in Python ?\n",
        "\n",
        "Ans:-They are the reserved words having specific meaning and used as syntax for programing languages and cannot be used as names,functions.identifiers or variable.\n",
        "eg:-print,type,while,if,else,elif etc.\n",
        "\n",
        "4) Can keywords be used as variable names ?\n",
        "\n",
        "Ans:-no\n",
        "\n",
        "5) What is mutability in Python ?\n",
        "\n",
        "Ans:-Containers whose value can be changed after created are called as mutable containers and this process is called is mutability.\n",
        "\n",
        "6) Why are lists mutable, but tuples are immutable ?\n",
        "\n",
        "Ans:-Because lists are dynamic and flexible whereas tuples are faster,thread safe and hashable.\n",
        "\n",
        "7) What is the difference between “==” and “is” operators in Python ?\n",
        "\n",
        "Ans:- == is assignment operator used to assign values whereas is variable is used to check if two variables refer to same object in memory.\n",
        "\n",
        "8) What are logical operators in Python ?\n",
        "\n",
        "Ans:- Their are 3 logical operators in python and or and not. They give boolean output like true or false and are use to make decision in code.\n",
        "\n",
        "9) What is type casting in Python ?\n",
        "\n",
        "Ans:- converting the datatype of a variable or object because while operation their can be mismatch of them .\n",
        "\n",
        "10) What is the difference between implicit and explicit type casting ?\n",
        "\n",
        "Ans:- implicit type casting :-already know the datatype. eg. python\n",
        "      explicit type casting :- don't know the datatype . eg. java\n",
        "\n",
        "11) What is the purpose of conditional statements in Python?\n",
        "\n",
        "Ans:- to check the conditions of given statements and make decisions. The conditional statements are if,if else, if elif else, nested if else.\n",
        "\n",
        "12) How does the elif statement work ?\n",
        "\n",
        "Ans:- It is else if statement combined as elif .\n",
        "steps of working of elif conditional statement:-\n",
        "1. if condition is checked\n",
        "2.if true then execute block of code and if false then elif condition is check.\n",
        "3.if elif condition is true then block of code is executed if false then else statement is executed.\n",
        "\n",
        "13) What is the difference between for and while loops ?\n",
        "\n",
        "Ans:- loop:- use to iterate over a sequence\n",
        "      while:- execute a block of code until the condition is met.\n",
        "\n",
        "14) Describe a scenario where a while loop is more suitable than a for loop ?\n",
        "\n",
        "Ans:- 1. number of iterartion is met\n",
        "      2. specific condition is met"
      ]
    },
    {
      "cell_type": "markdown",
      "metadata": {
        "id": "CVxsh_99iPgv"
      },
      "source": [
        "# PRACTICAL QUESTIONS\n"
      ]
    },
    {
      "cell_type": "markdown",
      "metadata": {
        "id": "OgL97qbjmU7W"
      },
      "source": [
        "1) Write a Python program to print \"Hello, World!"
      ]
    },
    {
      "cell_type": "markdown",
      "metadata": {
        "id": "BPDn5bi3OVQe"
      },
      "source": []
    },
    {
      "cell_type": "code",
      "execution_count": null,
      "metadata": {
        "colab": {
          "base_uri": "https://localhost:8080/"
        },
        "id": "yS1TM4cvhtcH",
        "outputId": "0999c420-a1a0-4392-9a8e-2a9d1a3b8873"
      },
      "outputs": [
        {
          "name": "stdout",
          "output_type": "stream",
          "text": [
            "Hello World\n"
          ]
        }
      ],
      "source": [
        "print(\"Hello World\")\n"
      ]
    },
    {
      "cell_type": "markdown",
      "metadata": {
        "id": "QC06i9oqmaej"
      },
      "source": [
        "2) Write a Python program that displays your name and age"
      ]
    },
    {
      "cell_type": "code",
      "execution_count": null,
      "metadata": {
        "id": "PV2hDTixiJaL"
      },
      "outputs": [],
      "source": [
        "Name=\"aditi niklaje\"\n",
        "age=\"22\"\n",
        "print(\"Name:-\",Name)\n",
        "print(\"age:-\",age)\n"
      ]
    },
    {
      "cell_type": "markdown",
      "metadata": {
        "id": "rQnP2h7zmd2c"
      },
      "source": [
        "3) Write code to print all the pre-defined keywords in Python using the keyword library"
      ]
    },
    {
      "cell_type": "code",
      "execution_count": null,
      "metadata": {
        "colab": {
          "base_uri": "https://localhost:8080/"
        },
        "id": "CtPNzSfBimFo",
        "outputId": "8ff9d634-a14e-4d4c-ffab-cd54508ab29e"
      },
      "outputs": [
        {
          "name": "stdout",
          "output_type": "stream",
          "text": [
            "Help on module keyword:\n",
            "\n",
            "NAME\n",
            "    keyword - Keywords (from \"Grammar/python.gram\")\n",
            "\n",
            "MODULE REFERENCE\n",
            "    https://docs.python.org/3.11/library/keyword.html\n",
            "    \n",
            "    The following documentation is automatically generated from the Python\n",
            "    source files.  It may be incomplete, incorrect or include features that\n",
            "    are considered implementation detail and may vary between Python\n",
            "    implementations.  When in doubt, consult the module reference at the\n",
            "    location listed above.\n",
            "\n",
            "DESCRIPTION\n",
            "    This file is automatically generated; please don't muck it up!\n",
            "    \n",
            "    To update the symbols in this file, 'cd' to the top directory of\n",
            "    the python source tree and run:\n",
            "    \n",
            "        PYTHONPATH=Tools/peg_generator python3 -m pegen.keywordgen         Grammar/python.gram         Grammar/Tokens         Lib/keyword.py\n",
            "    \n",
            "    Alternatively, you can run 'make regen-keyword'.\n",
            "\n",
            "FUNCTIONS\n",
            "    iskeyword = __contains__(...) method of builtins.frozenset instance\n",
            "        x.__contains__(y) <==> y in x.\n",
            "    \n",
            "    issoftkeyword = __contains__(...) method of builtins.frozenset instance\n",
            "        x.__contains__(y) <==> y in x.\n",
            "\n",
            "DATA\n",
            "    __all__ = ['iskeyword', 'issoftkeyword', 'kwlist', 'softkwlist']\n",
            "    kwlist = ['False', 'None', 'True', 'and', 'as', 'assert', 'async', 'aw...\n",
            "    softkwlist = ['_', 'case', 'match']\n",
            "\n",
            "FILE\n",
            "    /usr/lib/python3.11/keyword.py\n",
            "\n",
            "\n"
          ]
        }
      ],
      "source": [
        "help(\"keyword\")"
      ]
    },
    {
      "cell_type": "markdown",
      "metadata": {
        "id": "DzlHdg2Dmm7s"
      },
      "source": [
        "4)Write a program that checks if a given word is a Python keyword."
      ]
    },
    {
      "cell_type": "code",
      "execution_count": null,
      "metadata": {
        "colab": {
          "base_uri": "https://localhost:8080/",
          "height": 106
        },
        "id": "uwXvHOptispM",
        "outputId": "349dcd48-5ee5-437d-882a-c3aae598d97f"
      },
      "outputs": [
        {
          "ename": "SyntaxError",
          "evalue": "invalid syntax (<ipython-input-3-94e9982c9950>, line 6)",
          "output_type": "error",
          "traceback": [
            "\u001b[0;36m  File \u001b[0;32m\"<ipython-input-3-94e9982c9950>\"\u001b[0;36m, line \u001b[0;32m6\u001b[0m\n\u001b[0;31m    else:\u001b[0m\n\u001b[0m    ^\u001b[0m\n\u001b[0;31mSyntaxError\u001b[0m\u001b[0;31m:\u001b[0m invalid syntax\n"
          ]
        }
      ],
      "source": [
        "import keyword\n",
        "\n",
        "word=input(\"enter a word\")\n",
        "if keyword.ifkeyword(word):\n",
        "  print(f\"'{word}'is a python keyword\")\n",
        "  else:\n",
        "    print(f\"'{word}'is not a keyword\")"
      ]
    },
    {
      "cell_type": "markdown",
      "metadata": {
        "id": "uup-yYBFokPH"
      },
      "source": [
        "5. Create a list and tuple in Python, and demonstrate how attempting to change an element works differently\n",
        "for each."
      ]
    },
    {
      "cell_type": "code",
      "execution_count": null,
      "metadata": {
        "id": "-VXnTDA0ooGK"
      },
      "outputs": [],
      "source": [
        "fruits[\"apple\",\"banana\",\"orange\",\"grapes\"]\n",
        "fruit[0]=\"kiwi\""
      ]
    },
    {
      "cell_type": "code",
      "execution_count": null,
      "metadata": {
        "colab": {
          "base_uri": "https://localhost:8080/",
          "height": 193
        },
        "id": "VNUNy1HwrP6Q",
        "outputId": "8f84fb01-efa6-409e-80c9-0664201178e3"
      },
      "outputs": [
        {
          "name": "stdout",
          "output_type": "stream",
          "text": [
            "'Original tuple:(1, 2, 3, 0)\n"
          ]
        },
        {
          "ename": "TypeError",
          "evalue": "'tuple' object does not support item assignment",
          "output_type": "error",
          "traceback": [
            "\u001b[0;31m---------------------------------------------------------------------------\u001b[0m",
            "\u001b[0;31mTypeError\u001b[0m                                 Traceback (most recent call last)",
            "\u001b[0;32m<ipython-input-4-a6696d9bbc33>\u001b[0m in \u001b[0;36m<cell line: 0>\u001b[0;34m()\u001b[0m\n\u001b[1;32m      1\u001b[0m \u001b[0mmy_tuple\u001b[0m\u001b[0;34m=\u001b[0m\u001b[0;34m(\u001b[0m\u001b[0;36m1\u001b[0m\u001b[0;34m,\u001b[0m\u001b[0;36m2\u001b[0m\u001b[0;34m,\u001b[0m\u001b[0;36m3\u001b[0m\u001b[0;34m,\u001b[0m\u001b[0;36m0\u001b[0m\u001b[0;34m)\u001b[0m\u001b[0;34m\u001b[0m\u001b[0;34m\u001b[0m\u001b[0m\n\u001b[1;32m      2\u001b[0m \u001b[0mprint\u001b[0m\u001b[0;34m(\u001b[0m\u001b[0;34mf\"'Original tuple:{my_tuple}\"\u001b[0m\u001b[0;34m)\u001b[0m\u001b[0;34m\u001b[0m\u001b[0;34m\u001b[0m\u001b[0m\n\u001b[0;32m----> 3\u001b[0;31m \u001b[0mmy_tuple\u001b[0m\u001b[0;34m[\u001b[0m\u001b[0;36m1\u001b[0m\u001b[0;34m]\u001b[0m\u001b[0;34m=\u001b[0m\u001b[0;36m100\u001b[0m\u001b[0;34m\u001b[0m\u001b[0;34m\u001b[0m\u001b[0m\n\u001b[0m",
            "\u001b[0;31mTypeError\u001b[0m: 'tuple' object does not support item assignment"
          ]
        }
      ],
      "source": [
        "my_tuple=(1,2,3,0)\n",
        "print(f\"'Original tuple:{my_tuple}\")\n",
        "my_tuple[1]=100"
      ]
    },
    {
      "cell_type": "markdown",
      "metadata": {
        "id": "nJhvOGV-rPCA"
      },
      "source": [
        "6. Write a function to demonstrate the behavior of mutable and immutable arguments."
      ]
    },
    {
      "cell_type": "code",
      "execution_count": null,
      "metadata": {
        "id": "Kl2v33DIt7xH"
      },
      "outputs": [],
      "source": [
        "def modify_args(a_list, an_int):\n",
        "  a_list.append(4)\n",
        "  an_int += 10\n",
        "\n",
        "my_list = [1,2,3]\n",
        "my_int = 5\n",
        "\n",
        "modify_args(my_list,my_int)\n",
        "print(\"list after function call :\", my_list)  #mutable, will change\n",
        "print(\"Int after function call :\", my_int) #immutable , won't change"
      ]
    },
    {
      "cell_type": "markdown",
      "metadata": {
        "id": "Z00q21fKykem"
      },
      "source": [
        "7. Write a program that performs basic arithmetic operations on two user-input numbers."
      ]
    },
    {
      "cell_type": "code",
      "execution_count": null,
      "metadata": {
        "id": "9glVvc5DynEk"
      },
      "outputs": [],
      "source": [
        "x = float(input(\"Enter first number : \"))\n",
        "y = float(input(\"Enter second number : \"))\n",
        "\n",
        "print(\"Sum:\", x+y)\n",
        "print(\"Diffrence:\", x-y)\n",
        "print(\"Product :\", x*y)\n",
        "if y!=0:\n",
        "  print(\"Quotient:\", x/y)\n",
        "else:\n",
        "  print(\"Division  by zero is not allowed\")"
      ]
    },
    {
      "cell_type": "markdown",
      "metadata": {
        "id": "iQQ2B0V1ywuU"
      },
      "source": [
        "8. Write a program to demonstrate the use of logical operators"
      ]
    },
    {
      "cell_type": "code",
      "execution_count": null,
      "metadata": {
        "id": "TC4n_4WDyzba"
      },
      "outputs": [],
      "source": [
        "a = True\n",
        "b = False\n",
        "print(\"a AND b:\", a and b)\n",
        "print(\"a OR b:\", a or b)\n",
        "print(\"a NOT b\", not a)"
      ]
    },
    {
      "cell_type": "markdown",
      "metadata": {
        "id": "Cn94MHday7Mq"
      },
      "source": [
        "9. Write a Python program to convert user input from string to integer, float, and boolean types.\n",
        "\n"
      ]
    },
    {
      "cell_type": "code",
      "execution_count": null,
      "metadata": {
        "colab": {
          "background_save": true,
          "base_uri": "https://localhost:8080/"
        },
        "id": "TV8dE8Uty-Zp",
        "outputId": "a6d4ccc8-d046-4aff-c6fc-ec6e6145c40b"
      },
      "outputs": [
        {
          "name": "stdout",
          "output_type": "stream",
          "text": [
            "As integer: 24\n",
            "<class 'int'>\n",
            "As float: 24.0\n",
            "<class 'float'>\n",
            "As boolean: True\n",
            "<class 'bool'>\n"
          ]
        }
      ],
      "source": [
        "s = input(\"Enter something: \")\n",
        "integer_value = int(s)\n",
        "float_value = float(s)\n",
        "bool_value = bool(s)\n",
        "\n",
        "print(\"As integer:\", integer_value)\n",
        "print(type(integer_value))\n",
        "print(\"As float:\", float_value)\n",
        "print(type(float_value))\n",
        "print(\"As boolean:\", bool_value)\n",
        "print(type(bool_value))"
      ]
    },
    {
      "cell_type": "markdown",
      "metadata": {
        "id": "4n6b8D9dzDqB"
      },
      "source": [
        "10. Write code to demonstrate type casting with list elements."
      ]
    },
    {
      "cell_type": "code",
      "execution_count": null,
      "metadata": {
        "colab": {
          "background_save": true,
          "base_uri": "https://localhost:8080/"
        },
        "id": "5k4Dsu_9zGGw",
        "outputId": "5a740b95-71d3-432f-8660-25f5ff5a83ae"
      },
      "outputs": [
        {
          "name": "stdout",
          "output_type": "stream",
          "text": [
            "Original list: ['1', '2', '3']\n",
            "Number list: [1, 2, 3]\n"
          ]
        }
      ],
      "source": [
        "string_list = [\"1\",\"2\",\"3\"]\n",
        "print(\"Original list:\", string_list)\n",
        "\n",
        "#convert all string to number(int)\n",
        "number_list =[int(item) for item in string_list]\n",
        "print(\"Number list:\", number_list)"
      ]
    },
    {
      "cell_type": "markdown",
      "metadata": {
        "id": "rasWkEO7zObf"
      },
      "source": [
        "11. Write a program that checks if a number is positive, negative, or zero.\n",
        "\n"
      ]
    },
    {
      "cell_type": "code",
      "execution_count": null,
      "metadata": {
        "id": "bu8mn997zN-_"
      },
      "outputs": [],
      "source": [
        "number = float(input(\"Enter a number: \"))\n",
        "if number >0:\n",
        "  print(\"Positive\")\n",
        "elif number < 0:\n",
        "  print(\"Negative\")\n",
        "else:\n",
        "  print(\"Zero\")"
      ]
    },
    {
      "cell_type": "markdown",
      "metadata": {
        "id": "gSj0UI-2zcd4"
      },
      "source": [
        "12. Write a for loop to print numbers from 1 to 10"
      ]
    },
    {
      "cell_type": "code",
      "execution_count": 15,
      "metadata": {
        "colab": {
          "base_uri": "https://localhost:8080/"
        },
        "id": "eAk78nQsze36",
        "outputId": "60c879cd-a545-4835-9a4d-3b027e15a948"
      },
      "outputs": [
        {
          "output_type": "stream",
          "name": "stdout",
          "text": [
            "1 2 3 4 5 6 7 8 9 10 "
          ]
        }
      ],
      "source": [
        "for i in range(1,11):\n",
        "  print(i,end=\" \")"
      ]
    },
    {
      "cell_type": "markdown",
      "metadata": {
        "id": "_1rbSJe7zlGL"
      },
      "source": [
        "13. Write a Python program to find the sum of all even numbers between 1 and 50."
      ]
    },
    {
      "cell_type": "code",
      "execution_count": 16,
      "metadata": {
        "colab": {
          "base_uri": "https://localhost:8080/"
        },
        "id": "x5klLisMzrZA",
        "outputId": "439776fa-9465-402d-f177-ce3b9ce3ccb9"
      },
      "outputs": [
        {
          "output_type": "stream",
          "name": "stdout",
          "text": [
            "Sum of the even numbers:  650\n"
          ]
        }
      ],
      "source": [
        "total = 0\n",
        "for number in range(2,51,2):\n",
        "  total += number\n",
        "print(\"Sum of the even numbers: \", total)"
      ]
    },
    {
      "cell_type": "markdown",
      "metadata": {
        "id": "woGtlgaJzyik"
      },
      "source": [
        "14. Write a program to reverse a string using a while loop."
      ]
    },
    {
      "cell_type": "code",
      "execution_count": 17,
      "metadata": {
        "id": "cR1D5J1gz97Y",
        "colab": {
          "base_uri": "https://localhost:8080/"
        },
        "outputId": "522b7f79-dc87-40fb-be2d-ed8756d783b2"
      },
      "outputs": [
        {
          "output_type": "stream",
          "name": "stdout",
          "text": [
            "Enter some text: assignment\n",
            "reversed text: tnemngissa\n"
          ]
        }
      ],
      "source": [
        "text = input(\"Enter some text: \")\n",
        "reversed_text = \"\"\n",
        "index = len(text)-1\n",
        "\n",
        "while index>=0:\n",
        "  reversed_text += text[index]\n",
        "  index -= 1\n",
        "print(\"reversed text:\", reversed_text)"
      ]
    },
    {
      "cell_type": "markdown",
      "metadata": {
        "id": "zxpvQAxQz-4l"
      },
      "source": [
        "15. Write a Python program to calculate the factorial of a number provided by the user using a while loop"
      ]
    },
    {
      "cell_type": "code",
      "execution_count": 19,
      "metadata": {
        "id": "YlEMJ0V_0BYK",
        "colab": {
          "base_uri": "https://localhost:8080/"
        },
        "outputId": "6949329c-7aab-4723-dd98-2838948910c8"
      },
      "outputs": [
        {
          "output_type": "stream",
          "name": "stdout",
          "text": [
            "Enter a non-negative integer5\n",
            "The factorial of 5 is 120 \n"
          ]
        }
      ],
      "source": [
        "number = int(input(\"Enter a non-negative integer\"))\n",
        "\n",
        "if number < 0:\n",
        "  print(\"Factorial is not defined for negative numbers\")\n",
        "elif number ==0:\n",
        "  print(\"The factorial of 0 is 1\")\n",
        "else:\n",
        "  factorial = 1\n",
        "  i = number\n",
        "\n",
        "  while i>0:\n",
        "    factorial *= i\n",
        "    i-=1\n",
        "\n",
        "  print(f\"The factorial of {number} is {factorial} \")"
      ]
    }
  ],
  "metadata": {
    "colab": {
      "provenance": []
    },
    "kernelspec": {
      "display_name": "Python 3",
      "name": "python3"
    },
    "language_info": {
      "name": "python"
    }
  },
  "nbformat": 4,
  "nbformat_minor": 0
}